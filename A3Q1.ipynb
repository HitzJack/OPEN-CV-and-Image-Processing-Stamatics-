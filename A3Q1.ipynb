{
 "cells": [
  {
   "cell_type": "code",
   "execution_count": 1,
   "id": "bb1e472c-da89-4a8e-8976-78187e77a88f",
   "metadata": {},
   "outputs": [],
   "source": [
    "import cv2 as cv\n",
    "import numpy as np\n",
    "import skimage.filters as filters"
   ]
  },
  {
   "cell_type": "code",
   "execution_count": 2,
   "id": "5ebaed7b-a151-4c8b-8331-efe0d950fb81",
   "metadata": {},
   "outputs": [],
   "source": [
    "global image_1,image_2,image_3\n",
    "image_1=cv.imread('Assignment_3_images/gutters1.JPG')\n",
    "image_2=cv.imread('Assignment_3_images/gutters2.JPG')\n",
    "image_3=cv.imread('Assignment_3_images/gutters3.JPG')"
   ]
  },
  {
   "cell_type": "code",
   "execution_count": 3,
   "id": "03152b1b-3564-430a-9db4-d4a8c98d4208",
   "metadata": {},
   "outputs": [],
   "source": [
    "def sharp_image(num):\n",
    "      \n",
    "      # if num==1:\n",
    "      #       image='/Users/saaumitraraaj/Saaumitra/OPENCV/PHOTOS/Assignment_3_images/gutters1.JPG'\n",
    "      # elif num==2:\n",
    "      #       image='/Users/saaumitraraaj/Saaumitra/OPENCV/PHOTOS/Assignment_3_images/gutters2.JPG'\n",
    "      # elif num==3:\n",
    "      #       image='/Users/saaumitraraaj/Saaumitra/OPENCV/PHOTOS/Assignment_3_images/gutters3.JPG'\n",
    "      # print(image)\n",
    "      L=[image_1,image_2,image_3]\n",
    "               \n",
    "\n",
    "      gray=cv.cvtColor(L[num-1],cv.COLOR_BGR2GRAY)\n",
    "\n",
    "      smooth = cv.GaussianBlur(gray, (95,95), 0)\n",
    "\n",
    "      division = cv.divide(gray, smooth, scale=255)\n",
    "\n",
    "      sharp = filters.unsharp_mask(division, radius=1.5, amount=1.5, preserve_range=False)\n",
    "      sharp = (255*sharp).clip(0,255).astype(np.uint8)\n",
    "      cv.imshow('sharp',sharp)"
   ]
  },
  {
   "cell_type": "code",
   "execution_count": null,
   "id": "3d963537-01c3-4639-ab53-033c83dd7073",
   "metadata": {},
   "outputs": [
    {
     "name": "stdin",
     "output_type": "stream",
     "text": [
      "Enter the number: 2\n"
     ]
    }
   ],
   "source": [
    "num=int(input(\"Enter the number:\"))\n",
    "\n",
    "# cv.imshow('image2', image_2)\n",
    "sharp_image(num)\n",
    "# cv.imshow('gutters1',image_1)\n",
    "\n",
    "\n",
    "\n",
    "\n",
    "cv.waitKey(0)\n",
    "cv.destroyAllWindows()"
   ]
  },
  {
   "cell_type": "code",
   "execution_count": null,
   "id": "d5c71008-a54a-41f9-9c97-a9dd2e3f6154",
   "metadata": {},
   "outputs": [],
   "source": []
  }
 ],
 "metadata": {
  "kernelspec": {
   "display_name": "Python 3 (ipykernel)",
   "language": "python",
   "name": "python3"
  },
  "language_info": {
   "codemirror_mode": {
    "name": "ipython",
    "version": 3
   },
   "file_extension": ".py",
   "mimetype": "text/x-python",
   "name": "python",
   "nbconvert_exporter": "python",
   "pygments_lexer": "ipython3",
   "version": "3.10.9"
  }
 },
 "nbformat": 4,
 "nbformat_minor": 5
}
