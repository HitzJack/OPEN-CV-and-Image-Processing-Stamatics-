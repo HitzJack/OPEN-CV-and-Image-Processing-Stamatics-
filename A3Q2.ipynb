{
 "cells": [
  {
   "cell_type": "code",
   "execution_count": 1,
   "id": "040d11c2-e019-4c30-b928-21614b8f99ee",
   "metadata": {},
   "outputs": [],
   "source": [
    "import cv2 as cv\n",
    "import numpy as np"
   ]
  },
  {
   "cell_type": "code",
   "execution_count": 2,
   "id": "3a2d0932-7162-40b5-a80d-a8e20788a23f",
   "metadata": {
    "tags": []
   },
   "outputs": [],
   "source": [
    "def sharp_image(frame):\n",
    "    \n",
    "    new = np.zeros_like(frame)\n",
    "    contrast=4\n",
    "    bright=15\n",
    "    val=34\n",
    "\n",
    "    for i in range(len(frame)):\n",
    "        for j in range(len(frame[i])):\n",
    "            for c in range(len(frame[i][j])):\n",
    "                new[i,j,c] = np.clip(contrast*frame[i,j,c]+bright,0,255)\n",
    "    cv.imshow(\"CLEAR_IMAGE\",new)\n",
    "    cv.waitKey(0) \n",
    "    cv.destroyAllWindows()            "
   ]
  },
  {
   "cell_type": "code",
   "execution_count": null,
   "id": "9712bf24-cd27-4c2f-a73d-9fed879261b3",
   "metadata": {},
   "outputs": [
    {
     "name": "stdin",
     "output_type": "stream",
     "text": [
      "Enter the Image No. : 2\n"
     ]
    }
   ],
   "source": [
    "num = (input(\"Enter the Image No. :\"))\n",
    "\n",
    "\n",
    "frame= cv.imread(\"Assignment_3_images/cctv\"+num+\".JPG\")\n",
    "\n",
    "frame = cv.resize(frame,(700,500))\n",
    "\n",
    "sharp_image(frame)\n",
    "\n"
   ]
  },
  {
   "cell_type": "markdown",
   "id": "2488aa95-aa50-4aa0-8568-5a92f3f85e1f",
   "metadata": {},
   "source": []
  }
 ],
 "metadata": {
  "kernelspec": {
   "display_name": "Python 3 (ipykernel)",
   "language": "python",
   "name": "python3"
  },
  "language_info": {
   "codemirror_mode": {
    "name": "ipython",
    "version": 3
   },
   "file_extension": ".py",
   "mimetype": "text/x-python",
   "name": "python",
   "nbconvert_exporter": "python",
   "pygments_lexer": "ipython3",
   "version": "3.10.9"
  }
 },
 "nbformat": 4,
 "nbformat_minor": 5
}
